{
  "nbformat": 4,
  "nbformat_minor": 0,
  "metadata": {
    "colab": {
      "name": "Multi-class classification.ipynb",
      "provenance": [],
      "collapsed_sections": []
    },
    "kernelspec": {
      "name": "python3",
      "display_name": "Python 3"
    }
  },
  "cells": [
    {
      "cell_type": "markdown",
      "metadata": {
        "id": "bBfCPc9DDG3k",
        "colab_type": "text"
      },
      "source": [
        "# Multi-class classification example using MNIST Dataset"
      ]
    },
    {
      "cell_type": "markdown",
      "metadata": {
        "id": "xRufF99RDhu1",
        "colab_type": "text"
      },
      "source": [
        "#importing Libraries"
      ]
    },
    {
      "cell_type": "code",
      "metadata": {
        "id": "JuWS8P2nC4L_",
        "colab_type": "code",
        "colab": {}
      },
      "source": [
        "#@title Run on TensorFlow 2.x\n",
        "%tensorflow_version 2.x\n",
        "from __future__ import absolute_import, division, print_function, unicode_literals\n",
        "\n",
        "#@title Import relevant modules\n",
        "import numpy as np\n",
        "import pandas as pd\n",
        "import tensorflow as tf\n",
        "from tensorflow.keras import layers\n",
        "from matplotlib import pyplot as plt\n",
        "\n",
        "# The following lines adjust the granularity of reporting. \n",
        "pd.options.display.max_rows = 10\n",
        "pd.options.display.float_format = \"{:.1f}\".format\n",
        "\n",
        "# The following line improves formatting when ouputting NumPy arrays.\n",
        "np.set_printoptions(linewidth = 200)"
      ],
      "execution_count": 3,
      "outputs": []
    },
    {
      "cell_type": "code",
      "metadata": {
        "id": "ujW-WEm7DrDB",
        "colab_type": "code",
        "colab": {
          "base_uri": "https://localhost:8080/",
          "height": 51
        },
        "outputId": "b53efaf0-4672-4b33-a204-18327e368360"
      },
      "source": [
        "# import the dataset through keras default datasets\n",
        "\n",
        "(x_train, y_train),(x_test, y_test) = tf.keras.datasets.mnist.load_data()\n"
      ],
      "execution_count": 4,
      "outputs": [
        {
          "output_type": "stream",
          "text": [
            "Downloading data from https://storage.googleapis.com/tensorflow/tf-keras-datasets/mnist.npz\n",
            "11493376/11490434 [==============================] - 0s 0us/step\n"
          ],
          "name": "stdout"
        }
      ]
    },
    {
      "cell_type": "markdown",
      "metadata": {
        "id": "7pDsZDM2D5Zq",
        "colab_type": "text"
      },
      "source": [
        "# show example of the digits"
      ]
    },
    {
      "cell_type": "code",
      "metadata": {
        "id": "CneQUbBBDyBs",
        "colab_type": "code",
        "colab": {
          "base_uri": "https://localhost:8080/",
          "height": 513
        },
        "outputId": "2ce8809f-da41-4590-e9da-ad7466a0b1f5"
      },
      "source": [
        "# Output example #2917 of the training set.\n",
        "x_train[2917]"
      ],
      "execution_count": 5,
      "outputs": [
        {
          "output_type": "execute_result",
          "data": {
            "text/plain": [
              "array([[  0,   0,   0,   0,   0,   0,   0,   0,   0,   0,   0,   0,   0,   0,   0,   0,   0,   0,   0,   0,   0,   0,   0,   0,   0,   0,   0,   0],\n",
              "       [  0,   0,   0,   0,   0,   0,   0,   0,   0,   0,   0,   0,   0,   0,   0,   0,   0,   0,   0,   0,   0,   0,   0,   0,   0,   0,   0,   0],\n",
              "       [  0,   0,   0,   0,   0,   0,   0,   0,   0,   0,   0,   0,   0,   0,   0,   0,   0,   0,   0,   0,   0,   0,   0,   0,   0,   0,   0,   0],\n",
              "       [  0,   0,   0,   0,   0,   0,   0,   0,   0,   0,   0,   0,   0,   0,   0,   0,   0,   0,   0,   0,   0,   0,   0,   0,   0,   0,   0,   0],\n",
              "       [  0,   0,   0,   0,   0,   0,   0,   0,   0,   0,   0,   0,   0,   0,   0,   0,   0,   0,   0,   0,   0,   0,   0,   0,   0,   0,   0,   0],\n",
              "       [  0,   0,   0,   0,   0,   0,   0,   0,   0,   0,   0,   0,   0,   0,   0,   0,   0,   0,   0,   0,   0,   0,   0,   0,   0,   0,   0,   0],\n",
              "       [  0,   0,   0,   0,   0,   0,   0,   0, 127, 100, 156, 239, 224, 177, 213, 159,  70,  13,   0,   0,   0,   0,   0,   0,   0,   0,   0,   0],\n",
              "       [  0,   0,   0,   0,   0,   0,   0, 110, 250, 254, 254, 254, 254, 254, 254, 254, 254, 184,  10,   0,   0,   0,   0,   0,   0,   0,   0,   0],\n",
              "       [  0,   0,   0,   0,   0,   0,   0, 216, 254, 254, 254, 254, 254, 254, 254, 254, 254, 251,  54,   0,   0,   0,   0,   0,   0,   0,   0,   0],\n",
              "       [  0,   0,   0,   0,   0,   0,   0,   3, 131, 197,  68, 137, 101,  83,  41,  70, 221, 254, 108,   0,   0,   0,   0,   0,   0,   0,   0,   0],\n",
              "       [  0,   0,   0,   0,   0,   0,   0,   0,   0,   0,   0,   0,   0,   0,   0,   0,  58, 254, 216,  11,   0,   0,   0,   0,   0,   0,   0,   0],\n",
              "       [  0,   0,   0,   0,   0,   0,   0,   0,   0,   0,   0,   0,   0,   0,   0,   0, 110, 254, 254,  24,   0,   0,   0,   0,   0,   0,   0,   0],\n",
              "       [  0,   0,   0,   0,   0,   0,   0,   0,   0,   0,   0,   0,   0,   0,   4,  83, 247, 254, 192,  10,   0,   0,   0,   0,   0,   0,   0,   0],\n",
              "       [  0,   0,   0,   0,   0,   0,   0,   0,   0,   0,   0,   0,   0,  37, 124, 254, 254, 250,  47,   0,   0,   0,   0,   0,   0,   0,   0,   0],\n",
              "       [  0,   0,   0,   0,   0,   0,   0,   0,   0,   0,   0, 113, 178, 250, 254, 254, 254, 252, 178, 128,  50,   0,   0,   0,   0,   0,   0,   0],\n",
              "       [  0,   0,   0,   0,   0,   0,   0,   0,   0,   0,  69, 252, 254, 254, 254, 254, 254, 254, 254, 254, 153,   0,   0,   0,   0,   0,   0,   0],\n",
              "       [  0,   0,   0,   0,   0,   0,   0,   0,   0,   0, 141, 252, 254, 241, 241, 254, 247, 252, 254, 254, 153,   0,   0,   0,   0,   0,   0,   0],\n",
              "       [  0,   0,   0,   0,   0,   0,   0,   0,   0,   0,   0,  68,  82,   5,   5,  82,  37,  65, 167, 254, 190,   0,   0,   0,   0,   0,   0,   0],\n",
              "       [  0,   0,   0,   0,   0,   0,   0,   0,   0,   0,   0,   0,   0,   0,   0,   0,   0,   0, 162, 254, 153,   0,   0,   0,   0,   0,   0,   0],\n",
              "       [  0,   0,   0,   0,   0,   0,   0,   0,   0,   0,   0,   0,   0,   0,   0,   0,   0,   1, 172, 253,  75,   0,   0,   0,   0,   0,   0,   0],\n",
              "       [  0,   0,   0,   0,   0,   0,   0,   0,   0,   0,   0,   0,   0,   0,   0,   0,   0, 102, 254, 152,   0,   0,   0,   0,   0,   0,   0,   0],\n",
              "       [  0,   0,   0,   0,   0,   0,   0,   0,   0,   0,   0,   0,   0,   0,   0,   0,  38, 230, 216,  20,   0,   0,   0,   0,   0,   0,   0,   0],\n",
              "       [  0,   0,   0,   0,   0,   0,   0,   0,   0,   0,   0,   0,   0,   0,   1,  71, 222, 254, 142,   0,   0,   0,   0,   0,   0,   0,   0,   0],\n",
              "       [  0,   0,   0,   0,   0,   0,   0,   0,   0,   0,   0,   0,   0,   0,  66, 254, 254, 157,   0,   0,   0,   0,   0,   0,   0,   0,   0,   0],\n",
              "       [  0,   0,   0,   0,   0,   0,   0,   0,   4,  34,  34,  78, 161, 226, 249, 254, 154,   6,   0,   0,   0,   0,   0,   0,   0,   0,   0,   0],\n",
              "       [  0,   0,   0,   0,   0,   0,   0,  96, 184, 254, 254, 254, 254, 254, 249,  93,   5,   0,   0,   0,   0,   0,   0,   0,   0,   0,   0,   0],\n",
              "       [  0,   0,   0,   0,   0,   0,   0,   0,   0,   0,   0,   0,   0,   0,   0,   0,   0,   0,   0,   0,   0,   0,   0,   0,   0,   0,   0,   0],\n",
              "       [  0,   0,   0,   0,   0,   0,   0,   0,   0,   0,   0,   0,   0,   0,   0,   0,   0,   0,   0,   0,   0,   0,   0,   0,   0,   0,   0,   0]], dtype=uint8)"
            ]
          },
          "metadata": {
            "tags": []
          },
          "execution_count": 5
        }
      ]
    },
    {
      "cell_type": "code",
      "metadata": {
        "id": "u2a1zGU-D3SK",
        "colab_type": "code",
        "colab": {
          "base_uri": "https://localhost:8080/",
          "height": 282
        },
        "outputId": "1335620a-ae65-4264-9827-c30cece07a0f"
      },
      "source": [
        "# Use false colors to visualize the array.\n",
        "plt.imshow(x_train[2917])"
      ],
      "execution_count": 6,
      "outputs": [
        {
          "output_type": "execute_result",
          "data": {
            "text/plain": [
              "<matplotlib.image.AxesImage at 0x7fcfc79e64a8>"
            ]
          },
          "metadata": {
            "tags": []
          },
          "execution_count": 6
        },
        {
          "output_type": "display_data",
          "data": {
            "image/png": "[encoded data removed]",
            "text/plain": [
              "<Figure size 432x288 with 1 Axes>"
            ]
          },
          "metadata": {
            "tags": [],
            "needs_background": "light"
          }
        }
      ]
    },
    {
      "cell_type": "markdown",
      "metadata": {
        "id": "d1742EOmEDJX",
        "colab_type": "text"
      },
      "source": [
        "# Normalize features"
      ]
    },
    {
      "cell_type": "code",
      "metadata": {
        "id": "XvDBr04lEAEn",
        "colab_type": "code",
        "colab": {
          "base_uri": "https://localhost:8080/",
          "height": 71
        },
        "outputId": "29535236-bd50-4b11-e2d9-b1b36a88641d"
      },
      "source": [
        "x_train_normalized = x_train / 255.0\n",
        "x_test_normalized = x_test / 255.0\n",
        "print(x_train_normalized[2900][10]) # Output a normalized row\n",
        "\n",
        "\n"
      ],
      "execution_count": 8,
      "outputs": [
        {
          "output_type": "stream",
          "text": [
            "[0.         0.         0.         0.         0.         0.         0.         0.55294118 1.         0.66666667 0.11372549 0.         0.         0.         0.         0.         0.         0.\n",
            " 0.         0.         0.         0.         0.         0.         0.         0.         0.         0.        ]\n"
          ],
          "name": "stdout"
        }
      ]
    },
    {
      "cell_type": "markdown",
      "metadata": {
        "id": "FSlUFuJGESZ3",
        "colab_type": "text"
      },
      "source": [
        "# Define the plotting function"
      ]
    },
    {
      "cell_type": "code",
      "metadata": {
        "id": "nVWZqRQ3EHAj",
        "colab_type": "code",
        "colab": {
          "base_uri": "https://localhost:8080/",
          "height": 34
        },
        "cellView": "both",
        "outputId": "5cbc0efc-2f91-4c67-deef-4730fbf15722"
      },
      "source": [
        "#@title Define the plotting function\n",
        "def plot_curve(epochs, hist, list_of_metrics):\n",
        "  \"\"\"Plot a curve of one or more classification metrics vs. epoch.\"\"\"  \n",
        "  # list_of_metrics should be one of the names shown in:\n",
        "  # https://www.tensorflow.org/tutorials/structured_data/imbalanced_data#define_the_model_and_metrics  \n",
        "\n",
        "  plt.figure()\n",
        "  plt.xlabel(\"Epoch\")\n",
        "  plt.ylabel(\"Value\")\n",
        "\n",
        "  for m in list_of_metrics:\n",
        "    x = hist[m]\n",
        "    plt.plot(epochs[1:], x[1:], label=m)\n",
        "\n",
        "  plt.legend()\n",
        "\n",
        "print(\"Loaded the plot_curve function.\")"
      ],
      "execution_count": 11,
      "outputs": [
        {
          "output_type": "stream",
          "text": [
            "Loaded the plot_curve function.\n"
          ],
          "name": "stdout"
        }
      ]
    },
    {
      "cell_type": "markdown",
      "metadata": {
        "id": "S6ZKUk7zEihz",
        "colab_type": "text"
      },
      "source": [
        "# create a deep neural network model"
      ]
    },
    {
      "cell_type": "code",
      "metadata": {
        "id": "uxyfyDGNEVVj",
        "colab_type": "code",
        "colab": {}
      },
      "source": [
        "def create_model(my_learning_rate):\n",
        "  \"\"\"Create and compile a deep neural net.\"\"\"\n",
        "  \n",
        "  # All models in this course are sequential.\n",
        "  model = tf.keras.models.Sequential()\n",
        "\n",
        "  # The features are stored in a two-dimensional 28X28 array. \n",
        "  # Flatten that two-dimensional array into a a one-dimensional \n",
        "  # 784-element array.\n",
        "  model.add(tf.keras.layers.Flatten(input_shape=(28, 28)))\n",
        "\n",
        "  # Define the first hidden layer.   \n",
        "  model.add(tf.keras.layers.Dense(units=256, activation='relu', name='Hidden1'))\n",
        "  \n",
        "\n",
        "  # Define the second hidden layer.\n",
        "  model.add(tf.keras.layers.Dense(units=128, activation='relu', name='Hidden2'))\n",
        "\n",
        "\n",
        "  # Define a dropout regularization layer. \n",
        "  model.add(tf.keras.layers.Dropout(rate=0.2))\n",
        "\n",
        "  # Define the output layer. The units parameter is set to 10 because\n",
        "  # the model must choose among 10 possible output values (representing\n",
        "  # the digits from 0 to 9, inclusive).\n",
        "  #\n",
        "  # Don't change this layer.\n",
        "  model.add(tf.keras.layers.Dense(units=10, activation='softmax'))     \n",
        "                           \n",
        "  # Construct the layers into a model that TensorFlow can execute.  \n",
        "  # Notice that the loss function for multi-class classification\n",
        "  # is different than the loss function for binary classification.  \n",
        "  model.compile(optimizer=tf.keras.optimizers.Adam(lr=my_learning_rate),\n",
        "                loss=\"sparse_categorical_crossentropy\",\n",
        "                metrics=['accuracy'])\n",
        "  \n",
        "  return model    \n",
        "\n",
        "\n",
        "def train_model(model, train_features, train_label, epochs,\n",
        "                batch_size=None, validation_split=0.1):\n",
        "  \"\"\"Train the model by feeding it data.\"\"\"\n",
        "\n",
        "  history = model.fit(x=train_features, y=train_label, batch_size=batch_size,\n",
        "                      epochs=epochs, shuffle=True, \n",
        "                      validation_split=validation_split)\n",
        " \n",
        "  # To track the progression of training, gather a snapshot\n",
        "  # of the model's metrics at each epoch. \n",
        "  epochs = history.epoch\n",
        "  hist = pd.DataFrame(history.history)\n",
        "\n",
        "  return epochs, hist    "
      ],
      "execution_count": 12,
      "outputs": []
    },
    {
      "cell_type": "markdown",
      "metadata": {
        "id": "3lPvgbTNEtws",
        "colab_type": "text"
      },
      "source": [
        "# invoke the above function"
      ]
    },
    {
      "cell_type": "code",
      "metadata": {
        "id": "W_htDUCdErSy",
        "colab_type": "code",
        "colab": {
          "base_uri": "https://localhost:8080/",
          "height": 1000
        },
        "outputId": "6e65dffd-f6e7-435b-c545-a817ae9b10c0"
      },
      "source": [
        "# The following variables are the hyperparameters.\n",
        "learning_rate = 0.003\n",
        "epochs = 50\n",
        "batch_size = 4000\n",
        "validation_split = 0.2\n",
        "\n",
        "# Establish the model's topography.\n",
        "my_model = create_model(learning_rate)\n",
        "\n",
        "# Train the model on the normalized training set.\n",
        "epochs, hist = train_model(my_model, x_train_normalized, y_train, \n",
        "                           epochs, batch_size, validation_split)\n",
        "\n",
        "# Plot a graph of the metric vs. epochs.\n",
        "list_of_metrics_to_plot = ['accuracy']\n",
        "plot_curve(epochs, hist, list_of_metrics_to_plot)\n",
        "\n",
        "# Evaluate against the test set.\n",
        "print(\"\\n Evaluate the new model against the test set:\")\n",
        "my_model.evaluate(x=x_test_normalized, y=y_test, batch_size=batch_size)"
      ],
      "execution_count": 13,
      "outputs": [
        {
          "output_type": "stream",
          "text": [
            "Epoch 1/50\n",
            "12/12 [==============================] - 1s 99ms/step - loss: 1.0119 - accuracy: 0.7019 - val_loss: 0.3358 - val_accuracy: 0.8996\n",
            "Epoch 2/50\n",
            "12/12 [==============================] - 1s 88ms/step - loss: 0.3539 - accuracy: 0.8945 - val_loss: 0.2383 - val_accuracy: 0.9326\n",
            "Epoch 3/50\n",
            "12/12 [==============================] - 1s 89ms/step - loss: 0.2488 - accuracy: 0.9275 - val_loss: 0.1911 - val_accuracy: 0.9448\n",
            "Epoch 4/50\n",
            "12/12 [==============================] - 1s 88ms/step - loss: 0.1951 - accuracy: 0.9407 - val_loss: 0.1604 - val_accuracy: 0.9538\n",
            "Epoch 5/50\n",
            "12/12 [==============================] - 1s 88ms/step - loss: 0.1616 - accuracy: 0.9521 - val_loss: 0.1404 - val_accuracy: 0.9597\n",
            "Epoch 6/50\n",
            "12/12 [==============================] - 1s 89ms/step - loss: 0.1358 - accuracy: 0.9597 - val_loss: 0.1257 - val_accuracy: 0.9638\n",
            "Epoch 7/50\n",
            "12/12 [==============================] - 1s 88ms/step - loss: 0.1150 - accuracy: 0.9657 - val_loss: 0.1150 - val_accuracy: 0.9664\n",
            "Epoch 8/50\n",
            "12/12 [==============================] - 1s 89ms/step - loss: 0.1020 - accuracy: 0.9700 - val_loss: 0.1116 - val_accuracy: 0.9671\n",
            "Epoch 9/50\n",
            "12/12 [==============================] - 1s 89ms/step - loss: 0.0898 - accuracy: 0.9728 - val_loss: 0.1026 - val_accuracy: 0.9697\n",
            "Epoch 10/50\n",
            "12/12 [==============================] - 1s 88ms/step - loss: 0.0783 - accuracy: 0.9774 - val_loss: 0.0975 - val_accuracy: 0.9695\n",
            "Epoch 11/50\n",
            "12/12 [==============================] - 1s 90ms/step - loss: 0.0681 - accuracy: 0.9797 - val_loss: 0.0936 - val_accuracy: 0.9721\n",
            "Epoch 12/50\n",
            "12/12 [==============================] - 1s 89ms/step - loss: 0.0608 - accuracy: 0.9817 - val_loss: 0.0880 - val_accuracy: 0.9732\n",
            "Epoch 13/50\n",
            "12/12 [==============================] - 1s 90ms/step - loss: 0.0522 - accuracy: 0.9850 - val_loss: 0.0846 - val_accuracy: 0.9739\n",
            "Epoch 14/50\n",
            "12/12 [==============================] - 1s 89ms/step - loss: 0.0468 - accuracy: 0.9866 - val_loss: 0.0843 - val_accuracy: 0.9751\n",
            "Epoch 15/50\n",
            "12/12 [==============================] - 1s 91ms/step - loss: 0.0412 - accuracy: 0.9881 - val_loss: 0.0814 - val_accuracy: 0.9765\n",
            "Epoch 16/50\n",
            "12/12 [==============================] - 1s 88ms/step - loss: 0.0369 - accuracy: 0.9899 - val_loss: 0.0822 - val_accuracy: 0.9753\n",
            "Epoch 17/50\n",
            "12/12 [==============================] - 1s 88ms/step - loss: 0.0322 - accuracy: 0.9911 - val_loss: 0.0823 - val_accuracy: 0.9757\n",
            "Epoch 18/50\n",
            "12/12 [==============================] - 1s 88ms/step - loss: 0.0297 - accuracy: 0.9914 - val_loss: 0.0863 - val_accuracy: 0.9762\n",
            "Epoch 19/50\n",
            "12/12 [==============================] - 1s 89ms/step - loss: 0.0274 - accuracy: 0.9925 - val_loss: 0.0809 - val_accuracy: 0.9758\n",
            "Epoch 20/50\n",
            "12/12 [==============================] - 1s 88ms/step - loss: 0.0234 - accuracy: 0.9938 - val_loss: 0.0811 - val_accuracy: 0.9767\n",
            "Epoch 21/50\n",
            "12/12 [==============================] - 1s 88ms/step - loss: 0.0217 - accuracy: 0.9939 - val_loss: 0.0852 - val_accuracy: 0.9759\n",
            "Epoch 22/50\n",
            "12/12 [==============================] - 1s 89ms/step - loss: 0.0199 - accuracy: 0.9947 - val_loss: 0.0812 - val_accuracy: 0.9778\n",
            "Epoch 23/50\n",
            "12/12 [==============================] - 1s 89ms/step - loss: 0.0168 - accuracy: 0.9955 - val_loss: 0.0821 - val_accuracy: 0.9768\n",
            "Epoch 24/50\n",
            "12/12 [==============================] - 1s 90ms/step - loss: 0.0149 - accuracy: 0.9966 - val_loss: 0.0830 - val_accuracy: 0.9774\n",
            "Epoch 25/50\n",
            "12/12 [==============================] - 1s 89ms/step - loss: 0.0129 - accuracy: 0.9970 - val_loss: 0.0857 - val_accuracy: 0.9772\n",
            "Epoch 26/50\n",
            "12/12 [==============================] - 1s 88ms/step - loss: 0.0121 - accuracy: 0.9973 - val_loss: 0.0851 - val_accuracy: 0.9772\n",
            "Epoch 27/50\n",
            "12/12 [==============================] - 1s 89ms/step - loss: 0.0117 - accuracy: 0.9970 - val_loss: 0.0838 - val_accuracy: 0.9783\n",
            "Epoch 28/50\n",
            "12/12 [==============================] - 1s 89ms/step - loss: 0.0101 - accuracy: 0.9977 - val_loss: 0.0883 - val_accuracy: 0.9781\n",
            "Epoch 29/50\n",
            "12/12 [==============================] - 1s 89ms/step - loss: 0.0097 - accuracy: 0.9979 - val_loss: 0.0876 - val_accuracy: 0.9775\n",
            "Epoch 30/50\n",
            "12/12 [==============================] - 1s 90ms/step - loss: 0.0086 - accuracy: 0.9981 - val_loss: 0.0915 - val_accuracy: 0.9777\n",
            "Epoch 31/50\n",
            "12/12 [==============================] - 1s 89ms/step - loss: 0.0079 - accuracy: 0.9982 - val_loss: 0.0908 - val_accuracy: 0.9785\n",
            "Epoch 32/50\n",
            "12/12 [==============================] - 1s 89ms/step - loss: 0.0073 - accuracy: 0.9986 - val_loss: 0.0894 - val_accuracy: 0.9774\n",
            "Epoch 33/50\n",
            "12/12 [==============================] - 1s 90ms/step - loss: 0.0069 - accuracy: 0.9986 - val_loss: 0.0893 - val_accuracy: 0.9788\n",
            "Epoch 34/50\n",
            "12/12 [==============================] - 1s 90ms/step - loss: 0.0065 - accuracy: 0.9988 - val_loss: 0.0922 - val_accuracy: 0.9783\n",
            "Epoch 35/50\n",
            "12/12 [==============================] - 1s 89ms/step - loss: 0.0055 - accuracy: 0.9989 - val_loss: 0.0907 - val_accuracy: 0.9782\n",
            "Epoch 36/50\n",
            "12/12 [==============================] - 1s 88ms/step - loss: 0.0051 - accuracy: 0.9991 - val_loss: 0.0934 - val_accuracy: 0.9780\n",
            "Epoch 37/50\n",
            "12/12 [==============================] - 1s 90ms/step - loss: 0.0048 - accuracy: 0.9991 - val_loss: 0.0945 - val_accuracy: 0.9778\n",
            "Epoch 38/50\n",
            "12/12 [==============================] - 1s 88ms/step - loss: 0.0048 - accuracy: 0.9990 - val_loss: 0.0923 - val_accuracy: 0.9792\n",
            "Epoch 39/50\n",
            "12/12 [==============================] - 1s 89ms/step - loss: 0.0041 - accuracy: 0.9994 - val_loss: 0.0942 - val_accuracy: 0.9776\n",
            "Epoch 40/50\n",
            "12/12 [==============================] - 1s 88ms/step - loss: 0.0040 - accuracy: 0.9992 - val_loss: 0.0953 - val_accuracy: 0.9783\n",
            "Epoch 41/50\n",
            "12/12 [==============================] - 1s 90ms/step - loss: 0.0037 - accuracy: 0.9995 - val_loss: 0.0972 - val_accuracy: 0.9783\n",
            "Epoch 42/50\n",
            "12/12 [==============================] - 1s 92ms/step - loss: 0.0033 - accuracy: 0.9996 - val_loss: 0.0957 - val_accuracy: 0.9792\n",
            "Epoch 43/50\n",
            "12/12 [==============================] - 1s 90ms/step - loss: 0.0030 - accuracy: 0.9996 - val_loss: 0.0963 - val_accuracy: 0.9787\n",
            "Epoch 44/50\n",
            "12/12 [==============================] - 1s 89ms/step - loss: 0.0027 - accuracy: 0.9997 - val_loss: 0.1000 - val_accuracy: 0.9782\n",
            "Epoch 45/50\n",
            "12/12 [==============================] - 1s 88ms/step - loss: 0.0029 - accuracy: 0.9996 - val_loss: 0.0998 - val_accuracy: 0.9780\n",
            "Epoch 46/50\n",
            "12/12 [==============================] - 1s 89ms/step - loss: 0.0027 - accuracy: 0.9996 - val_loss: 0.0990 - val_accuracy: 0.9778\n",
            "Epoch 47/50\n",
            "12/12 [==============================] - 1s 89ms/step - loss: 0.0022 - accuracy: 0.9998 - val_loss: 0.0990 - val_accuracy: 0.9793\n",
            "Epoch 48/50\n",
            "12/12 [==============================] - 1s 89ms/step - loss: 0.0022 - accuracy: 0.9996 - val_loss: 0.1012 - val_accuracy: 0.9782\n",
            "Epoch 49/50\n",
            "12/12 [==============================] - 1s 89ms/step - loss: 0.0026 - accuracy: 0.9995 - val_loss: 0.1015 - val_accuracy: 0.9785\n",
            "Epoch 50/50\n",
            "12/12 [==============================] - 1s 89ms/step - loss: 0.0022 - accuracy: 0.9996 - val_loss: 0.1029 - val_accuracy: 0.9776\n",
            "\n",
            " Evaluate the new model against the test set:\n",
            "3/3 [==============================] - 0s 18ms/step - loss: 0.0823 - accuracy: 0.9814\n"
          ],
          "name": "stdout"
        },
        {
          "output_type": "execute_result",
          "data": {
            "text/plain": [
              "[0.08234144002199173, 0.9814000129699707]"
            ]
          },
          "metadata": {
            "tags": []
          },
          "execution_count": 13
        },
        {
          "output_type": "display_data",
          "data": {
            "image/png": "[encoded data removed]",
            "text/plain": [
              "<Figure size 432x288 with 1 Axes>"
            ]
          },
          "metadata": {
            "tags": [],
            "needs_background": "light"
          }
        }
      ]
    },
    {
      "cell_type": "code",
      "metadata": {
        "id": "uXF9FYhvEv3V",
        "colab_type": "code",
        "colab": {}
      },
      "source": [
        ""
      ],
      "execution_count": null,
      "outputs": []
    }
  ]
}